{
 "cells": [
  {
   "cell_type": "markdown",
   "id": "219b4abd",
   "metadata": {},
   "source": [
    "# Geração de dados\n",
    "## Os dados produzidos serão utilizados para avaliar os modelos de regressão simbólica"
   ]
  },
  {
   "cell_type": "code",
   "execution_count": 2,
   "id": "76754f4c",
   "metadata": {},
   "outputs": [],
   "source": [
    "import numpy as np\n",
    "from scipy.integrate import solve_ivp\n",
    "import pandas as pd\n",
    "# data = np.loadtxt(\"/mnt/c/Users/beatr/Desktop/GPLearn/gplearn/doc/dados_sirI.txt\")\n",
    "# np.savetxt('dados_sirR.txt', data)"
   ]
  },
  {
   "cell_type": "code",
   "execution_count": 3,
   "id": "ad8ab3ef",
   "metadata": {},
   "outputs": [],
   "source": [
    "def sir(t, x, beta=0.3, gamma=0.1):\n",
    "    return [\n",
    "        -beta * x[0] * x[1],\n",
    "        beta * x[0] * x[1] - gamma * x[1],\n",
    "        gamma * x[1],\n",
    "    ]\n",
    "\n",
    "\n",
    "t_start = 0.0\n",
    "t_end = 100.0\n",
    "t_step =  0.002\n",
    "\n",
    "t_span = (t_start, t_end)\n",
    "\n",
    "t_eval = np.arange(t_start, t_end, t_step)   # \n",
    "# Criando o vetor de condições iniciais\n",
    "N = 1\n",
    "I0, R0 = 0.001, 0\n",
    "S0 = N - I0 - R0\n",
    "x0_train = np.array([S0, I0, R0]) \n",
    "\n",
    "solution = solve_ivp(sir, t_span, x0_train,  method='RK45', t_eval=t_eval)\n",
    "\n",
    "t = solution.t\n",
    "pop = solution.y\n",
    "S = pop[:, 0]\n",
    "I =pop[:, 1]\n",
    "R = pop[:, 2]"
   ]
  },
  {
   "cell_type": "code",
   "execution_count": 4,
   "id": "1eca0f95",
   "metadata": {},
   "outputs": [],
   "source": [
    "# Simule as derivadas\n",
    "\n",
    "def derivadas(S, I, R, beta, gamma):\n",
    "    # Coeficientes das derivadas\n",
    "    dSdt = -beta * S * I \n",
    "    dIdt =  beta * S * I - gamma * I\n",
    "    dRdt = gamma * I\n",
    "    return [dSdt, dIdt, dRdt]\n",
    "\n",
    "# Parâmetros do modelo\n",
    "beta = 0.3 # Coeficiente de transmissão\n",
    "gamma = 0.1  # Taxa de recuperação\n",
    "\n",
    "# Calcular as derivadas\n",
    "dSdt, dIdt, dRdt = derivadas(S, I, R, beta, gamma)\n",
    "\n",
    "\n",
    "# Derivadas numéricas usando np.gradient\n",
    "#dSdt = np.gradient(solution.y[0], solution.t)\n",
    "#dIdt = np.gradient(solution.y[1], solution.t)\n",
    "#dRdt = np.gradient(solution.y[2], solution.t)\n",
    "\n",
    "\n",
    "# Resultados\n",
    "#print(\"dS/dt:\", dSdt)\n",
    "#print(\"dI/dt:\", dIdt)\n",
    "#print(\"dR/dt:\", dRdt)\n",
    "                                       \n",
    "df = pd.DataFrame({'suscetiveis': S, 'infectados': I, 'recuperado': R, 'dSdt': dSdt,\n",
    "                                                                        'dIdt': dIdt, \n",
    "                                                                        'dRdt': dRdt })  \n",
    "df.head()\n",
    "# Salvando o DataFrame em um arquivo CSV\n",
    "df.to_csv('dados_sir.csv', index=False)\n",
    "# Dados originais com suas taxas de variação dentro da pasta S_sir\n",
    "df.to_csv('dados_sir.txt', sep='\\t', index=False)\n",
    "###############################\n",
    "\n",
    "df_S = pd.DataFrame({'suscetiveis': S, 'infectados': I,'dSdt': dSdt}) \n",
    "np.savetxt('dados_sir_S.txt', df_S)\n",
    "df_I = pd.DataFrame({'suscetiveis': S, 'infectados': I,'dSdt': dIdt}) \n",
    "np.savetxt('dados_sir_I.txt', df_I)\n",
    "df_R = pd.DataFrame({'infectados': I,'dRdt': dRdt}) \n",
    "np.savetxt('dados_sir_R.txt', df_R)"
   ]
  },
  {
   "cell_type": "code",
   "execution_count": null,
   "id": "1718d176",
   "metadata": {},
   "outputs": [],
   "source": []
  }
 ],
 "metadata": {
  "kernelspec": {
   "display_name": "Python 3 (ipykernel)",
   "language": "python",
   "name": "python3"
  },
  "language_info": {
   "codemirror_mode": {
    "name": "ipython",
    "version": 3
   },
   "file_extension": ".py",
   "mimetype": "text/x-python",
   "name": "python",
   "nbconvert_exporter": "python",
   "pygments_lexer": "ipython3",
   "version": "3.8.16"
  }
 },
 "nbformat": 4,
 "nbformat_minor": 5
}
