{
 "cells": [
  {
   "cell_type": "markdown",
   "id": "de0b56a3",
   "metadata": {},
   "source": [
    "# O modelo SIR com PySINDy\n",
    "\n",
    "$$\\frac{dS}{dt} = -\\beta S I$$\n",
    "\n",
    "$$\\frac{dI}{dt} = \\beta S I - \\gamma I,$$\n",
    "\n",
    "$$\\frac{dR}{dt} =  \\gamma I$$\n",
    "\n",
    "\n",
    "$\\beta=$0.3 e $\\gamma=$0.1"
   ]
  },
  {
   "cell_type": "code",
   "execution_count": 1,
   "id": "64e344ee",
   "metadata": {},
   "outputs": [
    {
     "name": "stdout",
     "output_type": "stream",
     "text": [
      "(CVXPY) Jan 10 02:16:04 PM: Encountered unexpected exception importing solver OSQP:\n",
      "ImportError('DLL load failed while importing qdldl: Não foi possível encontrar o módulo especificado.')\n"
     ]
    }
   ],
   "source": [
    "import numpy as np\n",
    "from scipy.integrate import solve_ivp\n",
    "import pysindy as ps\n",
    "from pysindy.differentiation import FiniteDifference\n"
   ]
  },
  {
   "cell_type": "code",
   "execution_count": 2,
   "id": "c8e8cd65",
   "metadata": {},
   "outputs": [],
   "source": [
    "np.random.seed(100)\n",
    "def sir(t, x, beta=0.3, gamma=0.1):\n",
    "    return [\n",
    "        -beta * x[0] * x[1],\n",
    "        beta * x[0] * x[1] - gamma*x[1],\n",
    "        gamma*x[1],\n",
    "    ]\n",
    "\n",
    "\n",
    "t_start = 0.0\n",
    "t_end = 100.0\n",
    "t_step =  0.002\n",
    "t_span = (t_start, t_end)\n",
    "\n",
    "t_eval = np.arange(t_start, t_end, t_step)   # \n",
    "# Criando o vetor de condições iniciais\n",
    "N = 1\n",
    "I0, R0 = 0.001, 0.0\n",
    "S0 = N - I0 - R0\n",
    "x0_train = np.array([S0, I0, R0]) \n",
    "\n",
    "solution = solve_ivp(sir, t_span, x0_train, t_eval=t_eval)\n",
    "\n",
    "t = solution.t\n",
    "pop = solution.y.T\n"
   ]
  },
  {
   "cell_type": "code",
   "execution_count": 3,
   "id": "cfecee37",
   "metadata": {},
   "outputs": [
    {
     "name": "stdout",
     "output_type": "stream",
     "text": [
      "(S)' = -0.301 S * I\n",
      "(I)' = -0.100 I + 0.300 S * I\n",
      "(R)' = 0.100 I\n"
     ]
    }
   ],
   "source": [
    "# Definição das funções personalizadas\n",
    "library_functions = [lambda x: x, lambda x, y: x * y, lambda x, y: x + y]\n",
    "library_function_names = [lambda x: x, lambda x, y: f\"{x} * {y}\", lambda x, y: f\"{x} + {y}\"]\n",
    "\n",
    "feature_library= ps.CustomLibrary(library_functions=library_functions, \n",
    "                                  function_names=library_function_names).fit(solution.y.T)\n",
    "feature_library.transform(solution.y.T)\n",
    "feature_library.get_feature_names()\n",
    "\n",
    "\n",
    "differentiation_method = ps.FiniteDifference(order=2)\n",
    "optimizer = ps.STLSQ(threshold=0.6, alpha=1e-4, normalize_columns=True)\n",
    "model = ps.SINDy(differentiation_method=differentiation_method,\n",
    "                 feature_library=feature_library,\n",
    "                 feature_names = ['S', 'I', 'R'],\n",
    "                 optimizer=optimizer,)\n",
    "\n",
    "model.fit(solution.y.T, solution.t, quiet=True)\n",
    "model.print()"
   ]
  },
  {
   "cell_type": "code",
   "execution_count": null,
   "id": "57bf48ba",
   "metadata": {},
   "outputs": [],
   "source": []
  }
 ],
 "metadata": {
  "kernelspec": {
   "display_name": "Python 3 (ipykernel)",
   "language": "python",
   "name": "python3"
  },
  "language_info": {
   "codemirror_mode": {
    "name": "ipython",
    "version": 3
   },
   "file_extension": ".py",
   "mimetype": "text/x-python",
   "name": "python",
   "nbconvert_exporter": "python",
   "pygments_lexer": "ipython3",
   "version": "3.10.15"
  }
 },
 "nbformat": 4,
 "nbformat_minor": 5
}
